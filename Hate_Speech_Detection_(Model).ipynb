{
  "cells": [
    {
      "cell_type": "markdown",
      "metadata": {
        "id": "view-in-github",
        "colab_type": "text"
      },
      "source": [
        "<a href=\"https://colab.research.google.com/github/Adrianus-Bagas/Hate-Speech-Detection/blob/main/Hate_Speech_Detection_(Model).ipynb\" target=\"_parent\"><img src=\"https://colab.research.google.com/assets/colab-badge.svg\" alt=\"Open In Colab\"/></a>"
      ]
    },
    {
      "cell_type": "markdown",
      "metadata": {
        "id": "7-l4y3uYhL8X"
      },
      "source": [
        "# Deteksi Ujaran Kebencian Menggunakan Metode Naive Bayes, Decision Tree, Logistic Regression, dan Support Vector Machine"
      ]
    },
    {
      "cell_type": "markdown",
      "metadata": {
        "id": "PHPqpTBXhZ7M"
      },
      "source": [
        "## 1. Import beberapa libraries"
      ]
    },
    {
      "cell_type": "code",
      "execution_count": 1,
      "metadata": {
        "id": "84gBdZZFwZu-"
      },
      "outputs": [],
      "source": [
        "import pandas as pd\n",
        "import numpy as np\n",
        "from sklearn.svm import SVC\n",
        "from sklearn.tree import DecisionTreeClassifier\n",
        "from sklearn.linear_model import LogisticRegression\n",
        "from sklearn.naive_bayes import BernoulliNB\n",
        "from sklearn.feature_extraction.text import TfidfVectorizer\n",
        "from wordcloud import WordCloud, STOPWORDS, ImageColorGenerator\n",
        "import seaborn as sns\n",
        "import matplotlib.pyplot as plt\n",
        "from sklearn.metrics import accuracy_score, precision_score, recall_score, f1_score"
      ]
    },
    {
      "cell_type": "markdown",
      "metadata": {
        "id": "s6ntst-L5fYd"
      },
      "source": [
        "## 2. Memuat data"
      ]
    },
    {
      "cell_type": "code",
      "execution_count": 2,
      "metadata": {
        "colab": {
          "base_uri": "https://localhost:8080/"
        },
        "id": "9D_sTmEktiOz",
        "outputId": "6f79b501-6e89-4a65-e2c7-2a57ad00b858"
      },
      "outputs": [
        {
          "output_type": "stream",
          "name": "stdout",
          "text": [
            "Drive already mounted at /content/drive; to attempt to forcibly remount, call drive.mount(\"/content/drive\", force_remount=True).\n"
          ]
        }
      ],
      "source": [
        "from google.colab import drive\n",
        "drive.mount('/content/drive')"
      ]
    },
    {
      "cell_type": "code",
      "execution_count": 3,
      "metadata": {
        "colab": {
          "base_uri": "https://localhost:8080/",
          "height": 424
        },
        "id": "EtR9JVNttm9B",
        "outputId": "cc964c4e-02e7-492c-b4a6-1e5112bbd2cd"
      },
      "outputs": [
        {
          "output_type": "execute_result",
          "data": {
            "text/plain": [
              "      Unnamed: 0   Label                                              Tweet  \\\n",
              "0              0  Non_HS  RT @spardaxyz: Fadli Zon Minta Mendagri Segera...   \n",
              "1              1  Non_HS  RT @baguscondromowo: Mereka terus melukai aksi...   \n",
              "2              2  Non_HS  Sylvi: bagaimana gurbernur melakukan kekerasan...   \n",
              "3              3  Non_HS  Ahmad Dhani Tak Puas Debat Pilkada, Masalah Ja...   \n",
              "4              4  Non_HS  RT @lisdaulay28: Waspada KTP palsu.....kawal P...   \n",
              "...          ...     ...                                                ...   \n",
              "2695        2724      HS  Yagimanasih anjir gue dirumah doang dari pagi ...   \n",
              "2696        2725  Non_HS  Yah sekian pandangan awam dari saya wkwwk seka...   \n",
              "2697        2726      HS       yang butuh memek hubungi rp haneul terdekat'   \n",
              "2698        2727      HS  Yang sabar gua mah punya adek2 kunyuk yg bau k...   \n",
              "2699        2728      HS  yg didepan pada minggir buat ngasih jalan yg t...   \n",
              "\n",
              "                                        hasil_praproses  \n",
              "0     spardaxyz fadli zon mendagri nonaktif ahok gub...  \n",
              "1     baguscondromowo luka aksi rangka penjara ahok ...  \n",
              "2     sylvi gurbernur keras perempuan bukti foto bar...  \n",
              "3     ahmad dhani puas debat pilkada jalan bekas ungkap  \n",
              "4              lisdaulay waspada ktp palsukawal pilkada  \n",
              "...                                                 ...  \n",
              "2695  yagimanasih anjir rumah doang pagi gangerti ar...  \n",
              "2696  yah sekian pandang awam wkwwk lg cuman pandang...  \n",
              "2697                 butuh memek hubung rp haneul dekat  \n",
              "2698   sabar gua mah adek kunyuk yg bau kek sempak kuda  \n",
              "2699  yg depan minggir ngasih jalan yg turun eh yg m...  \n",
              "\n",
              "[2700 rows x 4 columns]"
            ],
            "text/html": [
              "\n",
              "  <div id=\"df-5b87e4a1-b1d0-4fa2-b1f2-ea723f8900a8\">\n",
              "    <div class=\"colab-df-container\">\n",
              "      <div>\n",
              "<style scoped>\n",
              "    .dataframe tbody tr th:only-of-type {\n",
              "        vertical-align: middle;\n",
              "    }\n",
              "\n",
              "    .dataframe tbody tr th {\n",
              "        vertical-align: top;\n",
              "    }\n",
              "\n",
              "    .dataframe thead th {\n",
              "        text-align: right;\n",
              "    }\n",
              "</style>\n",
              "<table border=\"1\" class=\"dataframe\">\n",
              "  <thead>\n",
              "    <tr style=\"text-align: right;\">\n",
              "      <th></th>\n",
              "      <th>Unnamed: 0</th>\n",
              "      <th>Label</th>\n",
              "      <th>Tweet</th>\n",
              "      <th>hasil_praproses</th>\n",
              "    </tr>\n",
              "  </thead>\n",
              "  <tbody>\n",
              "    <tr>\n",
              "      <th>0</th>\n",
              "      <td>0</td>\n",
              "      <td>Non_HS</td>\n",
              "      <td>RT @spardaxyz: Fadli Zon Minta Mendagri Segera...</td>\n",
              "      <td>spardaxyz fadli zon mendagri nonaktif ahok gub...</td>\n",
              "    </tr>\n",
              "    <tr>\n",
              "      <th>1</th>\n",
              "      <td>1</td>\n",
              "      <td>Non_HS</td>\n",
              "      <td>RT @baguscondromowo: Mereka terus melukai aksi...</td>\n",
              "      <td>baguscondromowo luka aksi rangka penjara ahok ...</td>\n",
              "    </tr>\n",
              "    <tr>\n",
              "      <th>2</th>\n",
              "      <td>2</td>\n",
              "      <td>Non_HS</td>\n",
              "      <td>Sylvi: bagaimana gurbernur melakukan kekerasan...</td>\n",
              "      <td>sylvi gurbernur keras perempuan bukti foto bar...</td>\n",
              "    </tr>\n",
              "    <tr>\n",
              "      <th>3</th>\n",
              "      <td>3</td>\n",
              "      <td>Non_HS</td>\n",
              "      <td>Ahmad Dhani Tak Puas Debat Pilkada, Masalah Ja...</td>\n",
              "      <td>ahmad dhani puas debat pilkada jalan bekas ungkap</td>\n",
              "    </tr>\n",
              "    <tr>\n",
              "      <th>4</th>\n",
              "      <td>4</td>\n",
              "      <td>Non_HS</td>\n",
              "      <td>RT @lisdaulay28: Waspada KTP palsu.....kawal P...</td>\n",
              "      <td>lisdaulay waspada ktp palsukawal pilkada</td>\n",
              "    </tr>\n",
              "    <tr>\n",
              "      <th>...</th>\n",
              "      <td>...</td>\n",
              "      <td>...</td>\n",
              "      <td>...</td>\n",
              "      <td>...</td>\n",
              "    </tr>\n",
              "    <tr>\n",
              "      <th>2695</th>\n",
              "      <td>2724</td>\n",
              "      <td>HS</td>\n",
              "      <td>Yagimanasih anjir gue dirumah doang dari pagi ...</td>\n",
              "      <td>yagimanasih anjir rumah doang pagi gangerti ar...</td>\n",
              "    </tr>\n",
              "    <tr>\n",
              "      <th>2696</th>\n",
              "      <td>2725</td>\n",
              "      <td>Non_HS</td>\n",
              "      <td>Yah sekian pandangan awam dari saya wkwwk seka...</td>\n",
              "      <td>yah sekian pandang awam wkwwk lg cuman pandang...</td>\n",
              "    </tr>\n",
              "    <tr>\n",
              "      <th>2697</th>\n",
              "      <td>2726</td>\n",
              "      <td>HS</td>\n",
              "      <td>yang butuh memek hubungi rp haneul terdekat'</td>\n",
              "      <td>butuh memek hubung rp haneul dekat</td>\n",
              "    </tr>\n",
              "    <tr>\n",
              "      <th>2698</th>\n",
              "      <td>2727</td>\n",
              "      <td>HS</td>\n",
              "      <td>Yang sabar gua mah punya adek2 kunyuk yg bau k...</td>\n",
              "      <td>sabar gua mah adek kunyuk yg bau kek sempak kuda</td>\n",
              "    </tr>\n",
              "    <tr>\n",
              "      <th>2699</th>\n",
              "      <td>2728</td>\n",
              "      <td>HS</td>\n",
              "      <td>yg didepan pada minggir buat ngasih jalan yg t...</td>\n",
              "      <td>yg depan minggir ngasih jalan yg turun eh yg m...</td>\n",
              "    </tr>\n",
              "  </tbody>\n",
              "</table>\n",
              "<p>2700 rows × 4 columns</p>\n",
              "</div>\n",
              "      <button class=\"colab-df-convert\" onclick=\"convertToInteractive('df-5b87e4a1-b1d0-4fa2-b1f2-ea723f8900a8')\"\n",
              "              title=\"Convert this dataframe to an interactive table.\"\n",
              "              style=\"display:none;\">\n",
              "        \n",
              "  <svg xmlns=\"http://www.w3.org/2000/svg\" height=\"24px\"viewBox=\"0 0 24 24\"\n",
              "       width=\"24px\">\n",
              "    <path d=\"M0 0h24v24H0V0z\" fill=\"none\"/>\n",
              "    <path d=\"M18.56 5.44l.94 2.06.94-2.06 2.06-.94-2.06-.94-.94-2.06-.94 2.06-2.06.94zm-11 1L8.5 8.5l.94-2.06 2.06-.94-2.06-.94L8.5 2.5l-.94 2.06-2.06.94zm10 10l.94 2.06.94-2.06 2.06-.94-2.06-.94-.94-2.06-.94 2.06-2.06.94z\"/><path d=\"M17.41 7.96l-1.37-1.37c-.4-.4-.92-.59-1.43-.59-.52 0-1.04.2-1.43.59L10.3 9.45l-7.72 7.72c-.78.78-.78 2.05 0 2.83L4 21.41c.39.39.9.59 1.41.59.51 0 1.02-.2 1.41-.59l7.78-7.78 2.81-2.81c.8-.78.8-2.07 0-2.86zM5.41 20L4 18.59l7.72-7.72 1.47 1.35L5.41 20z\"/>\n",
              "  </svg>\n",
              "      </button>\n",
              "      \n",
              "  <style>\n",
              "    .colab-df-container {\n",
              "      display:flex;\n",
              "      flex-wrap:wrap;\n",
              "      gap: 12px;\n",
              "    }\n",
              "\n",
              "    .colab-df-convert {\n",
              "      background-color: #E8F0FE;\n",
              "      border: none;\n",
              "      border-radius: 50%;\n",
              "      cursor: pointer;\n",
              "      display: none;\n",
              "      fill: #1967D2;\n",
              "      height: 32px;\n",
              "      padding: 0 0 0 0;\n",
              "      width: 32px;\n",
              "    }\n",
              "\n",
              "    .colab-df-convert:hover {\n",
              "      background-color: #E2EBFA;\n",
              "      box-shadow: 0px 1px 2px rgba(60, 64, 67, 0.3), 0px 1px 3px 1px rgba(60, 64, 67, 0.15);\n",
              "      fill: #174EA6;\n",
              "    }\n",
              "\n",
              "    [theme=dark] .colab-df-convert {\n",
              "      background-color: #3B4455;\n",
              "      fill: #D2E3FC;\n",
              "    }\n",
              "\n",
              "    [theme=dark] .colab-df-convert:hover {\n",
              "      background-color: #434B5C;\n",
              "      box-shadow: 0px 1px 3px 1px rgba(0, 0, 0, 0.15);\n",
              "      filter: drop-shadow(0px 1px 2px rgba(0, 0, 0, 0.3));\n",
              "      fill: #FFFFFF;\n",
              "    }\n",
              "  </style>\n",
              "\n",
              "      <script>\n",
              "        const buttonEl =\n",
              "          document.querySelector('#df-5b87e4a1-b1d0-4fa2-b1f2-ea723f8900a8 button.colab-df-convert');\n",
              "        buttonEl.style.display =\n",
              "          google.colab.kernel.accessAllowed ? 'block' : 'none';\n",
              "\n",
              "        async function convertToInteractive(key) {\n",
              "          const element = document.querySelector('#df-5b87e4a1-b1d0-4fa2-b1f2-ea723f8900a8');\n",
              "          const dataTable =\n",
              "            await google.colab.kernel.invokeFunction('convertToInteractive',\n",
              "                                                     [key], {});\n",
              "          if (!dataTable) return;\n",
              "\n",
              "          const docLinkHtml = 'Like what you see? Visit the ' +\n",
              "            '<a target=\"_blank\" href=https://colab.research.google.com/notebooks/data_table.ipynb>data table notebook</a>'\n",
              "            + ' to learn more about interactive tables.';\n",
              "          element.innerHTML = '';\n",
              "          dataTable['output_type'] = 'display_data';\n",
              "          await google.colab.output.renderOutput(dataTable, element);\n",
              "          const docLink = document.createElement('div');\n",
              "          docLink.innerHTML = docLinkHtml;\n",
              "          element.appendChild(docLink);\n",
              "        }\n",
              "      </script>\n",
              "    </div>\n",
              "  </div>\n",
              "  "
            ]
          },
          "metadata": {},
          "execution_count": 3
        }
      ],
      "source": [
        "df = pd.read_csv('/content/drive/MyDrive/dataset/project 4.csv')\n",
        "df"
      ]
    },
    {
      "cell_type": "markdown",
      "metadata": {
        "id": "0z-kKZBy5F45"
      },
      "source": [
        "Keterangan Label\n",
        "1. Non_HS = Baik\n",
        "2. HS = Buruk"
      ]
    },
    {
      "cell_type": "markdown",
      "source": [
        "# 3. Praproses"
      ],
      "metadata": {
        "id": "--jSO6cLxBqu"
      }
    },
    {
      "cell_type": "code",
      "execution_count": 4,
      "metadata": {
        "id": "IbhwrQ6q9cVM",
        "colab": {
          "base_uri": "https://localhost:8080/",
          "height": 424
        },
        "outputId": "f4bef9bc-7554-4cd8-cccd-558631e97d3f"
      },
      "outputs": [
        {
          "output_type": "execute_result",
          "data": {
            "text/plain": [
              "      Unnamed: 0  Label                                              Tweet  \\\n",
              "0              0      0  RT @spardaxyz: Fadli Zon Minta Mendagri Segera...   \n",
              "1              1      0  RT @baguscondromowo: Mereka terus melukai aksi...   \n",
              "2              2      0  Sylvi: bagaimana gurbernur melakukan kekerasan...   \n",
              "3              3      0  Ahmad Dhani Tak Puas Debat Pilkada, Masalah Ja...   \n",
              "4              4      0  RT @lisdaulay28: Waspada KTP palsu.....kawal P...   \n",
              "...          ...    ...                                                ...   \n",
              "2695        2724      1  Yagimanasih anjir gue dirumah doang dari pagi ...   \n",
              "2696        2725      0  Yah sekian pandangan awam dari saya wkwwk seka...   \n",
              "2697        2726      1       yang butuh memek hubungi rp haneul terdekat'   \n",
              "2698        2727      1  Yang sabar gua mah punya adek2 kunyuk yg bau k...   \n",
              "2699        2728      1  yg didepan pada minggir buat ngasih jalan yg t...   \n",
              "\n",
              "                                        hasil_praproses  \n",
              "0     spardaxyz fadli zon mendagri nonaktif ahok gub...  \n",
              "1     baguscondromowo luka aksi rangka penjara ahok ...  \n",
              "2     sylvi gurbernur keras perempuan bukti foto bar...  \n",
              "3     ahmad dhani puas debat pilkada jalan bekas ungkap  \n",
              "4              lisdaulay waspada ktp palsukawal pilkada  \n",
              "...                                                 ...  \n",
              "2695  yagimanasih anjir rumah doang pagi gangerti ar...  \n",
              "2696  yah sekian pandang awam wkwwk lg cuman pandang...  \n",
              "2697                 butuh memek hubung rp haneul dekat  \n",
              "2698   sabar gua mah adek kunyuk yg bau kek sempak kuda  \n",
              "2699  yg depan minggir ngasih jalan yg turun eh yg m...  \n",
              "\n",
              "[2700 rows x 4 columns]"
            ],
            "text/html": [
              "\n",
              "  <div id=\"df-d4412191-fa66-4689-87cb-79a66006b369\">\n",
              "    <div class=\"colab-df-container\">\n",
              "      <div>\n",
              "<style scoped>\n",
              "    .dataframe tbody tr th:only-of-type {\n",
              "        vertical-align: middle;\n",
              "    }\n",
              "\n",
              "    .dataframe tbody tr th {\n",
              "        vertical-align: top;\n",
              "    }\n",
              "\n",
              "    .dataframe thead th {\n",
              "        text-align: right;\n",
              "    }\n",
              "</style>\n",
              "<table border=\"1\" class=\"dataframe\">\n",
              "  <thead>\n",
              "    <tr style=\"text-align: right;\">\n",
              "      <th></th>\n",
              "      <th>Unnamed: 0</th>\n",
              "      <th>Label</th>\n",
              "      <th>Tweet</th>\n",
              "      <th>hasil_praproses</th>\n",
              "    </tr>\n",
              "  </thead>\n",
              "  <tbody>\n",
              "    <tr>\n",
              "      <th>0</th>\n",
              "      <td>0</td>\n",
              "      <td>0</td>\n",
              "      <td>RT @spardaxyz: Fadli Zon Minta Mendagri Segera...</td>\n",
              "      <td>spardaxyz fadli zon mendagri nonaktif ahok gub...</td>\n",
              "    </tr>\n",
              "    <tr>\n",
              "      <th>1</th>\n",
              "      <td>1</td>\n",
              "      <td>0</td>\n",
              "      <td>RT @baguscondromowo: Mereka terus melukai aksi...</td>\n",
              "      <td>baguscondromowo luka aksi rangka penjara ahok ...</td>\n",
              "    </tr>\n",
              "    <tr>\n",
              "      <th>2</th>\n",
              "      <td>2</td>\n",
              "      <td>0</td>\n",
              "      <td>Sylvi: bagaimana gurbernur melakukan kekerasan...</td>\n",
              "      <td>sylvi gurbernur keras perempuan bukti foto bar...</td>\n",
              "    </tr>\n",
              "    <tr>\n",
              "      <th>3</th>\n",
              "      <td>3</td>\n",
              "      <td>0</td>\n",
              "      <td>Ahmad Dhani Tak Puas Debat Pilkada, Masalah Ja...</td>\n",
              "      <td>ahmad dhani puas debat pilkada jalan bekas ungkap</td>\n",
              "    </tr>\n",
              "    <tr>\n",
              "      <th>4</th>\n",
              "      <td>4</td>\n",
              "      <td>0</td>\n",
              "      <td>RT @lisdaulay28: Waspada KTP palsu.....kawal P...</td>\n",
              "      <td>lisdaulay waspada ktp palsukawal pilkada</td>\n",
              "    </tr>\n",
              "    <tr>\n",
              "      <th>...</th>\n",
              "      <td>...</td>\n",
              "      <td>...</td>\n",
              "      <td>...</td>\n",
              "      <td>...</td>\n",
              "    </tr>\n",
              "    <tr>\n",
              "      <th>2695</th>\n",
              "      <td>2724</td>\n",
              "      <td>1</td>\n",
              "      <td>Yagimanasih anjir gue dirumah doang dari pagi ...</td>\n",
              "      <td>yagimanasih anjir rumah doang pagi gangerti ar...</td>\n",
              "    </tr>\n",
              "    <tr>\n",
              "      <th>2696</th>\n",
              "      <td>2725</td>\n",
              "      <td>0</td>\n",
              "      <td>Yah sekian pandangan awam dari saya wkwwk seka...</td>\n",
              "      <td>yah sekian pandang awam wkwwk lg cuman pandang...</td>\n",
              "    </tr>\n",
              "    <tr>\n",
              "      <th>2697</th>\n",
              "      <td>2726</td>\n",
              "      <td>1</td>\n",
              "      <td>yang butuh memek hubungi rp haneul terdekat'</td>\n",
              "      <td>butuh memek hubung rp haneul dekat</td>\n",
              "    </tr>\n",
              "    <tr>\n",
              "      <th>2698</th>\n",
              "      <td>2727</td>\n",
              "      <td>1</td>\n",
              "      <td>Yang sabar gua mah punya adek2 kunyuk yg bau k...</td>\n",
              "      <td>sabar gua mah adek kunyuk yg bau kek sempak kuda</td>\n",
              "    </tr>\n",
              "    <tr>\n",
              "      <th>2699</th>\n",
              "      <td>2728</td>\n",
              "      <td>1</td>\n",
              "      <td>yg didepan pada minggir buat ngasih jalan yg t...</td>\n",
              "      <td>yg depan minggir ngasih jalan yg turun eh yg m...</td>\n",
              "    </tr>\n",
              "  </tbody>\n",
              "</table>\n",
              "<p>2700 rows × 4 columns</p>\n",
              "</div>\n",
              "      <button class=\"colab-df-convert\" onclick=\"convertToInteractive('df-d4412191-fa66-4689-87cb-79a66006b369')\"\n",
              "              title=\"Convert this dataframe to an interactive table.\"\n",
              "              style=\"display:none;\">\n",
              "        \n",
              "  <svg xmlns=\"http://www.w3.org/2000/svg\" height=\"24px\"viewBox=\"0 0 24 24\"\n",
              "       width=\"24px\">\n",
              "    <path d=\"M0 0h24v24H0V0z\" fill=\"none\"/>\n",
              "    <path d=\"M18.56 5.44l.94 2.06.94-2.06 2.06-.94-2.06-.94-.94-2.06-.94 2.06-2.06.94zm-11 1L8.5 8.5l.94-2.06 2.06-.94-2.06-.94L8.5 2.5l-.94 2.06-2.06.94zm10 10l.94 2.06.94-2.06 2.06-.94-2.06-.94-.94-2.06-.94 2.06-2.06.94z\"/><path d=\"M17.41 7.96l-1.37-1.37c-.4-.4-.92-.59-1.43-.59-.52 0-1.04.2-1.43.59L10.3 9.45l-7.72 7.72c-.78.78-.78 2.05 0 2.83L4 21.41c.39.39.9.59 1.41.59.51 0 1.02-.2 1.41-.59l7.78-7.78 2.81-2.81c.8-.78.8-2.07 0-2.86zM5.41 20L4 18.59l7.72-7.72 1.47 1.35L5.41 20z\"/>\n",
              "  </svg>\n",
              "      </button>\n",
              "      \n",
              "  <style>\n",
              "    .colab-df-container {\n",
              "      display:flex;\n",
              "      flex-wrap:wrap;\n",
              "      gap: 12px;\n",
              "    }\n",
              "\n",
              "    .colab-df-convert {\n",
              "      background-color: #E8F0FE;\n",
              "      border: none;\n",
              "      border-radius: 50%;\n",
              "      cursor: pointer;\n",
              "      display: none;\n",
              "      fill: #1967D2;\n",
              "      height: 32px;\n",
              "      padding: 0 0 0 0;\n",
              "      width: 32px;\n",
              "    }\n",
              "\n",
              "    .colab-df-convert:hover {\n",
              "      background-color: #E2EBFA;\n",
              "      box-shadow: 0px 1px 2px rgba(60, 64, 67, 0.3), 0px 1px 3px 1px rgba(60, 64, 67, 0.15);\n",
              "      fill: #174EA6;\n",
              "    }\n",
              "\n",
              "    [theme=dark] .colab-df-convert {\n",
              "      background-color: #3B4455;\n",
              "      fill: #D2E3FC;\n",
              "    }\n",
              "\n",
              "    [theme=dark] .colab-df-convert:hover {\n",
              "      background-color: #434B5C;\n",
              "      box-shadow: 0px 1px 3px 1px rgba(0, 0, 0, 0.15);\n",
              "      filter: drop-shadow(0px 1px 2px rgba(0, 0, 0, 0.3));\n",
              "      fill: #FFFFFF;\n",
              "    }\n",
              "  </style>\n",
              "\n",
              "      <script>\n",
              "        const buttonEl =\n",
              "          document.querySelector('#df-d4412191-fa66-4689-87cb-79a66006b369 button.colab-df-convert');\n",
              "        buttonEl.style.display =\n",
              "          google.colab.kernel.accessAllowed ? 'block' : 'none';\n",
              "\n",
              "        async function convertToInteractive(key) {\n",
              "          const element = document.querySelector('#df-d4412191-fa66-4689-87cb-79a66006b369');\n",
              "          const dataTable =\n",
              "            await google.colab.kernel.invokeFunction('convertToInteractive',\n",
              "                                                     [key], {});\n",
              "          if (!dataTable) return;\n",
              "\n",
              "          const docLinkHtml = 'Like what you see? Visit the ' +\n",
              "            '<a target=\"_blank\" href=https://colab.research.google.com/notebooks/data_table.ipynb>data table notebook</a>'\n",
              "            + ' to learn more about interactive tables.';\n",
              "          element.innerHTML = '';\n",
              "          dataTable['output_type'] = 'display_data';\n",
              "          await google.colab.output.renderOutput(dataTable, element);\n",
              "          const docLink = document.createElement('div');\n",
              "          docLink.innerHTML = docLinkHtml;\n",
              "          element.appendChild(docLink);\n",
              "        }\n",
              "      </script>\n",
              "    </div>\n",
              "  </div>\n",
              "  "
            ]
          },
          "metadata": {},
          "execution_count": 4
        }
      ],
      "source": [
        "X = df['hasil_praproses']\n",
        "df['Label'] = df['Label'].apply(lambda x: 1 if x == 'HS' else 0)\n",
        "df"
      ]
    },
    {
      "cell_type": "code",
      "source": [
        "Y = df[\"Label\"]\n",
        "Y"
      ],
      "metadata": {
        "colab": {
          "base_uri": "https://localhost:8080/"
        },
        "id": "vXRLbUhz0z8A",
        "outputId": "a5e5978c-472c-4d78-c6a7-a5cbb2c0f19f"
      },
      "execution_count": 5,
      "outputs": [
        {
          "output_type": "execute_result",
          "data": {
            "text/plain": [
              "0       0\n",
              "1       0\n",
              "2       0\n",
              "3       0\n",
              "4       0\n",
              "       ..\n",
              "2695    1\n",
              "2696    0\n",
              "2697    1\n",
              "2698    1\n",
              "2699    1\n",
              "Name: Label, Length: 2700, dtype: int64"
            ]
          },
          "metadata": {},
          "execution_count": 5
        }
      ]
    },
    {
      "cell_type": "markdown",
      "source": [
        "Catatan\n",
        "0 = Non_HS\n",
        "1 = HS"
      ],
      "metadata": {
        "id": "loCnAj9zSZzY"
      }
    },
    {
      "cell_type": "code",
      "source": [
        "tfidf_vectorizer = TfidfVectorizer()\n",
        "tfidf_vector = tfidf_vectorizer.fit_transform(X).toarray()\n",
        "tfidf_vector.shape"
      ],
      "metadata": {
        "colab": {
          "base_uri": "https://localhost:8080/"
        },
        "id": "waMdWJaA1F0a",
        "outputId": "e6cf9c80-a588-488a-a5e6-2e131b23283b"
      },
      "execution_count": 6,
      "outputs": [
        {
          "output_type": "execute_result",
          "data": {
            "text/plain": [
              "(2700, 7678)"
            ]
          },
          "metadata": {},
          "execution_count": 6
        }
      ]
    },
    {
      "cell_type": "code",
      "source": [
        "print(df['Label'].value_counts())"
      ],
      "metadata": {
        "colab": {
          "base_uri": "https://localhost:8080/"
        },
        "id": "qXG9rZ2Y1v0S",
        "outputId": "c6b782e8-e433-41c0-e91c-6a4570b56705"
      },
      "execution_count": 7,
      "outputs": [
        {
          "output_type": "stream",
          "name": "stdout",
          "text": [
            "1    1935\n",
            "0     765\n",
            "Name: Label, dtype: int64\n"
          ]
        }
      ]
    },
    {
      "cell_type": "code",
      "source": [
        "from imblearn.over_sampling import SMOTE\n",
        "sampler = SMOTE()\n",
        "tfidf_vector, Y = sampler.fit_resample(tfidf_vector, Y)\n",
        "tfidf_vector.shape"
      ],
      "metadata": {
        "colab": {
          "base_uri": "https://localhost:8080/"
        },
        "id": "4c9Z0fEE1WFH",
        "outputId": "e054d20f-0837-45d2-e122-55396228b6ff"
      },
      "execution_count": 8,
      "outputs": [
        {
          "output_type": "execute_result",
          "data": {
            "text/plain": [
              "(3870, 7678)"
            ]
          },
          "metadata": {},
          "execution_count": 8
        }
      ]
    },
    {
      "cell_type": "code",
      "source": [
        "from sklearn.model_selection import train_test_split\n",
        "X_train, X_test, Y_train, Y_test = train_test_split(tfidf_vector, Y, test_size=0.2, shuffle=True, random_state=42)"
      ],
      "metadata": {
        "id": "s9jFJ3uM19e3"
      },
      "execution_count": 9,
      "outputs": []
    },
    {
      "cell_type": "code",
      "source": [
        "X_train.shape"
      ],
      "metadata": {
        "colab": {
          "base_uri": "https://localhost:8080/"
        },
        "id": "yojK-lWRJPTy",
        "outputId": "5e83d241-ac6b-4c8c-9b71-1d39d0696381"
      },
      "execution_count": 10,
      "outputs": [
        {
          "output_type": "execute_result",
          "data": {
            "text/plain": [
              "(3096, 7678)"
            ]
          },
          "metadata": {},
          "execution_count": 10
        }
      ]
    },
    {
      "cell_type": "markdown",
      "source": [
        "# 4. Model Decision Tree"
      ],
      "metadata": {
        "id": "CXfAL6CI-bV7"
      }
    },
    {
      "cell_type": "code",
      "source": [
        "dt = DecisionTreeClassifier()\n",
        "dt.fit(X_train, Y_train)\n",
        "y_pred_dt = dt.predict(X_test)"
      ],
      "metadata": {
        "id": "1pAtp10G-Zrl"
      },
      "execution_count": 11,
      "outputs": []
    },
    {
      "cell_type": "code",
      "source": [
        "accuracy_dt = round(accuracy_score(Y_test, y_pred_dt)*100,4)\n",
        "precision_dt = round(precision_score(Y_test, y_pred_dt)*100,4)\n",
        "recall_dt = round(recall_score(Y_test, y_pred_dt)*100,4)\n",
        "f1_dt = round(f1_score(Y_test, y_pred_dt)*100,4)\n",
        "print(\"Accuracy :\",accuracy_dt)\n",
        "print(\"Precision :\",precision_dt)\n",
        "print(\"Recall :\",recall_dt)\n",
        "print(\"F1 Score :\",f1_dt)"
      ],
      "metadata": {
        "colab": {
          "base_uri": "https://localhost:8080/"
        },
        "outputId": "bd162ecd-ae34-4233-9b44-d4da3a5df510",
        "id": "YJfS2rkV-Zrn"
      },
      "execution_count": 12,
      "outputs": [
        {
          "output_type": "stream",
          "name": "stdout",
          "text": [
            "Accuracy : 85.6589\n",
            "Precision : 84.9351\n",
            "Recall : 86.0526\n",
            "F1 Score : 85.4902\n"
          ]
        }
      ]
    },
    {
      "cell_type": "code",
      "source": [
        "from mlxtend.plotting import plot_confusion_matrix\n",
        "from sklearn import metrics"
      ],
      "metadata": {
        "id": "a4MChfFa-Zrp"
      },
      "execution_count": 13,
      "outputs": []
    },
    {
      "cell_type": "code",
      "source": [
        "def print_conf(y_test, result, classes, title='Confusion matrix'):\n",
        "  conf_matrix = metrics.confusion_matrix(y_test, result)\n",
        "  plt.figure(figsize=(6,6))\n",
        "  sns.heatmap(conf_matrix, \n",
        "              annot=True,\n",
        "              xticklabels=classes, \n",
        "              yticklabels=classes,\n",
        "              cmap=\"Blues\",\n",
        "              fmt='d')\n",
        "  plt.ylabel('Actual')\n",
        "  plt.xlabel('Predicted')\n",
        "  plt.title(title)\n",
        "  plt.show()"
      ],
      "metadata": {
        "id": "t_SgGvbA-Zrq"
      },
      "execution_count": 14,
      "outputs": []
    },
    {
      "cell_type": "code",
      "source": [
        "print_conf(Y_test, y_pred_dt, [0, 1], title=\"Confusion matrix DT\")"
      ],
      "metadata": {
        "colab": {
          "base_uri": "https://localhost:8080/",
          "height": 404
        },
        "outputId": "b33f5e57-bd18-4e38-d3b5-36904be35f6c",
        "id": "m7enDyfx-Zrq"
      },
      "execution_count": 15,
      "outputs": [
        {
          "output_type": "display_data",
          "data": {
            "text/plain": [
              "<Figure size 432x432 with 2 Axes>"
            ],
            "image/png": "[encoded data removed]"
          },
          "metadata": {
            "needs_background": "light"
          }
        }
      ]
    },
    {
      "cell_type": "markdown",
      "source": [
        "# 5. Model Logistic Regression"
      ],
      "metadata": {
        "id": "sBvhsV-r-k1m"
      }
    },
    {
      "cell_type": "code",
      "source": [
        "lr = LogisticRegression()\n",
        "lr.fit(X_train, Y_train)\n",
        "y_pred_lr = lr.predict(X_test)"
      ],
      "metadata": {
        "id": "tB9dFYoj-njD"
      },
      "execution_count": 16,
      "outputs": []
    },
    {
      "cell_type": "code",
      "source": [
        "accuracy_lr = round(accuracy_score(Y_test, y_pred_lr)*100,4)\n",
        "precision_lr = round(precision_score(Y_test, y_pred_lr)*100,4)\n",
        "recall_lr = round(recall_score(Y_test, y_pred_lr)*100,4)\n",
        "f1_lr = round(f1_score(Y_test, y_pred_lr)*100,4)\n",
        "print(\"Accuracy :\",accuracy_lr)\n",
        "print(\"Precision :\",precision_lr)\n",
        "print(\"Recall :\",recall_lr)\n",
        "print(\"F1 Score :\",f1_lr)"
      ],
      "metadata": {
        "colab": {
          "base_uri": "https://localhost:8080/"
        },
        "outputId": "130c1cf2-4805-4046-85b5-751e9de8be21",
        "id": "WMA8xBMm-njE"
      },
      "execution_count": 17,
      "outputs": [
        {
          "output_type": "stream",
          "name": "stdout",
          "text": [
            "Accuracy : 89.5349\n",
            "Precision : 87.6574\n",
            "Recall : 91.5789\n",
            "F1 Score : 89.5753\n"
          ]
        }
      ]
    },
    {
      "cell_type": "code",
      "source": [
        "print_conf(Y_test, y_pred_lr, [0, 1], title=\"Confusion matrix LR\")"
      ],
      "metadata": {
        "id": "dOVbmgREySaK",
        "colab": {
          "base_uri": "https://localhost:8080/",
          "height": 404
        },
        "outputId": "680996ae-8030-4ae9-fbb9-76764f0d4e54"
      },
      "execution_count": 18,
      "outputs": [
        {
          "output_type": "display_data",
          "data": {
            "text/plain": [
              "<Figure size 432x432 with 2 Axes>"
            ],
            "image/png": "[encoded data removed]"
          },
          "metadata": {
            "needs_background": "light"
          }
        }
      ]
    },
    {
      "cell_type": "markdown",
      "source": [
        "# 6. Model Naive Bayes"
      ],
      "metadata": {
        "id": "tcLqhyH4-pdU"
      }
    },
    {
      "cell_type": "code",
      "source": [
        "nb = BernoulliNB()\n",
        "nb.fit(X_train, Y_train)\n",
        "y_pred_nb = nb.predict(X_test)"
      ],
      "metadata": {
        "id": "flON-q8B-1c2"
      },
      "execution_count": 19,
      "outputs": []
    },
    {
      "cell_type": "code",
      "source": [
        "accuracy_nb = round(accuracy_score(Y_test, y_pred_nb)*100,4)\n",
        "precision_nb = round(precision_score(Y_test, y_pred_nb)*100,4)\n",
        "recall_nb = round(recall_score(Y_test, y_pred_nb)*100,4)\n",
        "f1_nb = round(f1_score(Y_test, y_pred_nb)*100,4)\n",
        "print(\"Accuracy :\",accuracy_nb)\n",
        "print(\"Precision :\",precision_nb)\n",
        "print(\"Recall :\",recall_nb)\n",
        "print(\"F1 Score :\",f1_nb)"
      ],
      "metadata": {
        "colab": {
          "base_uri": "https://localhost:8080/"
        },
        "outputId": "49819c4f-2691-4f43-f02f-04c4db0f566e",
        "id": "neBhsovP-1c4"
      },
      "execution_count": 20,
      "outputs": [
        {
          "output_type": "stream",
          "name": "stdout",
          "text": [
            "Accuracy : 92.3773\n",
            "Precision : 89.8263\n",
            "Recall : 95.2632\n",
            "F1 Score : 92.4649\n"
          ]
        }
      ]
    },
    {
      "cell_type": "code",
      "source": [
        "print_conf(Y_test, y_pred_nb, [0, 1], title=\"Confusion matrix NB\")"
      ],
      "metadata": {
        "colab": {
          "base_uri": "https://localhost:8080/",
          "height": 404
        },
        "outputId": "f42c73ab-c970-4f91-83e8-d821dbdbec14",
        "id": "2P6fUrPE-1c6"
      },
      "execution_count": 21,
      "outputs": [
        {
          "output_type": "display_data",
          "data": {
            "text/plain": [
              "<Figure size 432x432 with 2 Axes>"
            ],
            "image/png": "[encoded data removed]"
          },
          "metadata": {
            "needs_background": "light"
          }
        }
      ]
    },
    {
      "cell_type": "markdown",
      "source": [
        "# 7. Model SVM"
      ],
      "metadata": {
        "id": "MyKlFOas-2rg"
      }
    },
    {
      "cell_type": "code",
      "source": [
        "svc = SVC()\n",
        "svc.fit(X_train, Y_train)\n",
        "y_pred_svc = svc.predict(X_test)"
      ],
      "metadata": {
        "id": "-qwtuP6Z-_3Z"
      },
      "execution_count": 22,
      "outputs": []
    },
    {
      "cell_type": "code",
      "source": [
        "accuracy_svc = round(accuracy_score(Y_test, y_pred_svc)*100,4)\n",
        "precision_svc = round(precision_score(Y_test, y_pred_svc)*100,4)\n",
        "recall_svc = round(recall_score(Y_test, y_pred_svc)*100,4)\n",
        "f1_svc = round(f1_score(Y_test, y_pred_svc)*100,4)\n",
        "print(\"Accuracy :\",accuracy_svc)\n",
        "print(\"Precision :\",precision_svc)\n",
        "print(\"Recall :\",recall_svc)\n",
        "print(\"F1 Score :\",f1_svc)"
      ],
      "metadata": {
        "colab": {
          "base_uri": "https://localhost:8080/"
        },
        "outputId": "2cf780b2-83ed-42e6-c270-6cf5eb27c686",
        "id": "eHleF1cb-_3e"
      },
      "execution_count": 23,
      "outputs": [
        {
          "output_type": "stream",
          "name": "stdout",
          "text": [
            "Accuracy : 93.0233\n",
            "Precision : 88.6256\n",
            "Recall : 98.4211\n",
            "F1 Score : 93.2668\n"
          ]
        }
      ]
    },
    {
      "cell_type": "code",
      "source": [
        "print_conf(Y_test, y_pred_svc, [0, 1], title=\"Confusion matrix SVC\")"
      ],
      "metadata": {
        "colab": {
          "base_uri": "https://localhost:8080/",
          "height": 404
        },
        "outputId": "05fdf7ce-db76-412d-b04f-fad62b13be51",
        "id": "XHHn5Vni-_3f"
      },
      "execution_count": 24,
      "outputs": [
        {
          "output_type": "display_data",
          "data": {
            "text/plain": [
              "<Figure size 432x432 with 2 Axes>"
            ],
            "image/png": "[encoded data removed]"
          },
          "metadata": {
            "needs_background": "light"
          }
        }
      ]
    },
    {
      "cell_type": "code",
      "source": [
        "model_name = [\"Naive Bayes\", \"Decission Tree\", \"Logistic Regression\", \"SVM\"]\n",
        "acc_pred = [accuracy_nb, accuracy_dt, accuracy_lr, accuracy_svc]\n",
        "precision_pred = [precision_nb, precision_dt, precision_lr, precision_svc]\n",
        "recall_pred = [recall_nb, recall_dt, recall_lr, recall_svc]\n",
        "f1_pred = [f1_nb, f1_dt, f1_lr, f1_svc]\n",
        "fig, ax = plt.subplots(2,2, figsize=(15,11))\n",
        "\n",
        "# ------------------- Accuracy ------------------------\n",
        "\n",
        "axes = sns.barplot(x=model_name, y=acc_pred, ax=ax[0,0])\n",
        "for i in range(len(model_name)):\n",
        "  axes.text(i, acc_pred[i]+3, acc_pred[i], \n",
        "           horizontalalignment='center', verticalalignment='center')\n",
        "axes.set_ylim([0,max(acc_pred)+10])\n",
        "axes.set_title(\"Accuracy\")\n",
        "\n",
        "# ------------------- Precission ------------------------\n",
        "\n",
        "axes = sns.barplot(x=model_name, y=precision_pred, ax=ax[0,1])\n",
        "for i in range(len(model_name)):\n",
        "  axes.text(i, precision_pred[i]+3, precision_pred[i], \n",
        "           horizontalalignment='center', verticalalignment='center')\n",
        "axes.set_ylim([0,max(precision_pred)+10])\n",
        "axes.set_title(\"Precision\")\n",
        "\n",
        "# ------------------- Recall ------------------------\n",
        "\n",
        "axes = sns.barplot(x=model_name, y=recall_pred, ax=ax[1,0])\n",
        "for i in range(len(model_name)):\n",
        "  axes.text(i, recall_pred[i]+3, recall_pred[i], \n",
        "           horizontalalignment='center', verticalalignment='center')\n",
        "axes.set_ylim([0,max(recall_pred)+10])\n",
        "axes.set_title(\"Recall\")\n",
        "\n",
        "# ---------------------- F1 --------------------------\n",
        "\n",
        "axes = sns.barplot(x=model_name, y=f1_pred, ax=ax[1,1])\n",
        "for i in range(len(model_name)):\n",
        "  axes.text(i, f1_pred[i]+3, f1_pred[i], \n",
        "           horizontalalignment='center', verticalalignment='center')\n",
        "axes.set_ylim([0,max(f1_pred)+10])\n",
        "axes.set_title(\"F1\")\n",
        "\n",
        "plt.show()"
      ],
      "metadata": {
        "colab": {
          "base_uri": "https://localhost:8080/",
          "height": 662
        },
        "id": "z1Q7xZYgOrBk",
        "outputId": "fdb05b8e-15d6-4537-89d8-7e24ba1e7cef"
      },
      "execution_count": 25,
      "outputs": [
        {
          "output_type": "display_data",
          "data": {
            "text/plain": [
              "<Figure size 1080x792 with 4 Axes>"
            ],
            "image/png": "[encoded data removed]"
          },
          "metadata": {
            "needs_background": "light"
          }
        }
      ]
    },
    {
      "cell_type": "code",
      "source": [
        "import joblib\n",
        "\n",
        "joblib.dump(svc, 'model_svc.joblib')\n",
        "joblib.dump(tfidf_vectorizer, 'TF-IDF Vectorizer.joblib')"
      ],
      "metadata": {
        "colab": {
          "base_uri": "https://localhost:8080/"
        },
        "id": "bkEGvzvU6B7B",
        "outputId": "bdaf8222-77be-4050-9b78-707bc421bd03"
      },
      "execution_count": 26,
      "outputs": [
        {
          "output_type": "execute_result",
          "data": {
            "text/plain": [
              "['TF-IDF Vectorizer.joblib']"
            ]
          },
          "metadata": {},
          "execution_count": 26
        }
      ]
    },
    {
      "cell_type": "code",
      "source": [
        "saved_model = joblib.load('model_svc.joblib') \n",
        "saved_tfidf = joblib.load('TF-IDF Vectorizer.joblib')"
      ],
      "metadata": {
        "id": "v0vkF1_z6cqE"
      },
      "execution_count": 27,
      "outputs": []
    },
    {
      "cell_type": "code",
      "source": [
        "tweets = ['anjing babi']\n",
        "vectorized_tweets = saved_tfidf.transform(tweets).toarray()\n",
        "input_prediction = saved_model.predict(vectorized_tweets)"
      ],
      "metadata": {
        "id": "HS2YAeI66m-1"
      },
      "execution_count": 30,
      "outputs": []
    },
    {
      "cell_type": "code",
      "source": [
        "input_prediction"
      ],
      "metadata": {
        "colab": {
          "base_uri": "https://localhost:8080/"
        },
        "id": "7F4HeNH_61v6",
        "outputId": "736ba0e0-a87a-4546-a4a6-c680234b09c0"
      },
      "execution_count": 31,
      "outputs": [
        {
          "output_type": "execute_result",
          "data": {
            "text/plain": [
              "array([1])"
            ]
          },
          "metadata": {},
          "execution_count": 31
        }
      ]
    },
    {
      "cell_type": "code",
      "source": [],
      "metadata": {
        "id": "VENOzairQbyw"
      },
      "execution_count": 29,
      "outputs": []
    }
  ],
  "metadata": {
    "colab": {
      "collapsed_sections": [],
      "provenance": [],
      "authorship_tag": "ABX9TyNwETJGo7zOcSjRfVsT9eEK",
      "include_colab_link": true
    },
    "gpuClass": "standard",
    "kernelspec": {
      "display_name": "Python 3",
      "name": "python3"
    },
    "language_info": {
      "name": "python"
    }
  },
  "nbformat": 4,
  "nbformat_minor": 0
}